{
 "cells": [
  {
   "cell_type": "code",
   "execution_count": 90,
   "id": "studied-backup",
   "metadata": {},
   "outputs": [],
   "source": [
    "import numpy as np\n",
    "import pandas as pd\n",
    "import matplotlib.pyplot as plt"
   ]
  },
  {
   "cell_type": "code",
   "execution_count": 114,
   "id": "furnished-discrimination",
   "metadata": {},
   "outputs": [
    {
     "data": {
      "text/html": [
       "<div>\n",
       "<style scoped>\n",
       "    .dataframe tbody tr th:only-of-type {\n",
       "        vertical-align: middle;\n",
       "    }\n",
       "\n",
       "    .dataframe tbody tr th {\n",
       "        vertical-align: top;\n",
       "    }\n",
       "\n",
       "    .dataframe thead th {\n",
       "        text-align: right;\n",
       "    }\n",
       "</style>\n",
       "<table border=\"1\" class=\"dataframe\">\n",
       "  <thead>\n",
       "    <tr style=\"text-align: right;\">\n",
       "      <th></th>\n",
       "      <th>0.9317189805776385</th>\n",
       "      <th>50.94283197947629</th>\n",
       "      <th>2596.040230347921</th>\n",
       "    </tr>\n",
       "  </thead>\n",
       "  <tbody>\n",
       "    <tr>\n",
       "      <th>0</th>\n",
       "      <td>0.796997</td>\n",
       "      <td>50.312938</td>\n",
       "      <td>2532.026902</td>\n",
       "    </tr>\n",
       "    <tr>\n",
       "      <th>1</th>\n",
       "      <td>1.115603</td>\n",
       "      <td>50.156194</td>\n",
       "      <td>2516.888332</td>\n",
       "    </tr>\n",
       "    <tr>\n",
       "      <th>2</th>\n",
       "      <td>1.064629</td>\n",
       "      <td>50.774814</td>\n",
       "      <td>2579.215190</td>\n",
       "    </tr>\n",
       "    <tr>\n",
       "      <th>3</th>\n",
       "      <td>1.796804</td>\n",
       "      <td>50.055668</td>\n",
       "      <td>2508.798424</td>\n",
       "    </tr>\n",
       "    <tr>\n",
       "      <th>4</th>\n",
       "      <td>1.261743</td>\n",
       "      <td>50.522134</td>\n",
       "      <td>2554.078001</td>\n",
       "    </tr>\n",
       "  </tbody>\n",
       "</table>\n",
       "</div>"
      ],
      "text/plain": [
       "   0.9317189805776385   50.94283197947629   2596.040230347921\n",
       "0            0.796997           50.312938         2532.026902\n",
       "1            1.115603           50.156194         2516.888332\n",
       "2            1.064629           50.774814         2579.215190\n",
       "3            1.796804           50.055668         2508.798424\n",
       "4            1.261743           50.522134         2554.078001"
      ]
     },
     "execution_count": 114,
     "metadata": {},
     "output_type": "execute_result"
    }
   ],
   "source": [
    "df = pd.read_csv('dat.csv')\n",
    "df.head(5)"
   ]
  },
  {
   "cell_type": "code",
   "execution_count": 136,
   "id": "embedded-gregory",
   "metadata": {},
   "outputs": [
    {
     "data": {
      "text/plain": [
       "Index(['0.9317189805776385', ' 50.94283197947629', ' 2596.040230347921',\n",
       "       'const'],\n",
       "      dtype='object')"
      ]
     },
     "execution_count": 136,
     "metadata": {},
     "output_type": "execute_result"
    }
   ],
   "source": [
    "\n",
    "df.columns"
   ]
  },
  {
   "cell_type": "code",
   "execution_count": 137,
   "id": "accompanied-carroll",
   "metadata": {},
   "outputs": [],
   "source": [
    "y = df[[' 2596.040230347921']].to_numpy()\n"
   ]
  },
  {
   "cell_type": "code",
   "execution_count": 138,
   "id": "fiscal-worry",
   "metadata": {},
   "outputs": [],
   "source": [
    "df['const']=1"
   ]
  },
  {
   "cell_type": "code",
   "execution_count": 139,
   "id": "painful-episode",
   "metadata": {},
   "outputs": [],
   "source": [
    "X = df[['const','0.9317189805776385', ' 50.94283197947629']].to_numpy()"
   ]
  },
  {
   "cell_type": "code",
   "execution_count": 140,
   "id": "hundred-consciousness",
   "metadata": {},
   "outputs": [
    {
     "name": "stdout",
     "output_type": "stream",
     "text": [
      "(159999, 1) (159999, 3)\n"
     ]
    }
   ],
   "source": [
    "#shapes\n",
    "\n",
    "print(y.shape,X.shape)"
   ]
  },
  {
   "cell_type": "markdown",
   "id": "front-possession",
   "metadata": {},
   "source": [
    "##### Decenso del gradiente"
   ]
  },
  {
   "cell_type": "code",
   "execution_count": 131,
   "id": "exterior-graduate",
   "metadata": {},
   "outputs": [],
   "source": [
    "\n",
    "def linear_cost(X, y, theta): \n",
    "    h = X @ theta\n",
    "    return ((y-h)**2).sum() / (2 * len(X))\n",
    "\n",
    "def linear_cost_gradient(X, y, theta, lambda_=10):\n",
    "    h = X @ theta\n",
    "    lambda_f = (lambda_/(2*len(X))) * (theta**2).sum()\n",
    "    return (X.T @ (h-y))/ len(X) + lambda_f\n",
    "\n",
    "\n",
    "def gradient_descent(\n",
    "X,y,theta_0,linear_cost,linear_cost_gradient,\n",
    "    learning_rate = 0.0001, threshold=0.001, max_iter=10000,lambda_ = 10): \n",
    "    \n",
    "    theta = theta_0\n",
    "    iteration = 0 \n",
    "    costs = []\n",
    "    thetas = []\n",
    "    \n",
    "    while np.linalg.norm(linear_cost_gradient(X,y,theta)) > threshold and iteration < max_iter:\n",
    "        iteration += 1 \n",
    "        theta = theta - (learning_rate * linear_cost_gradient(X,y,theta) + lambda_ * theta)\n",
    "        costs.append(linear_cost(X,y,theta))\n",
    "        thetas.append(theta.copy())\n",
    "        \n",
    "    return theta, costs, thetas"
   ]
  },
  {
   "cell_type": "code",
   "execution_count": 141,
   "id": "tough-bernard",
   "metadata": {},
   "outputs": [],
   "source": [
    "# thetas\n",
    "m,n = X.shape\n",
    "\n"
   ]
  },
  {
   "cell_type": "code",
   "execution_count": 142,
   "id": "minimal-demand",
   "metadata": {},
   "outputs": [],
   "source": [
    "theta_0 = np.random.rand(n,1)"
   ]
  },
  {
   "cell_type": "code",
   "execution_count": 143,
   "id": "peripheral-cleaner",
   "metadata": {},
   "outputs": [
    {
     "data": {
      "text/plain": [
       "(3, 1)"
      ]
     },
     "execution_count": 143,
     "metadata": {},
     "output_type": "execute_result"
    }
   ],
   "source": [
    "theta_0.shape"
   ]
  },
  {
   "cell_type": "markdown",
   "id": "stretch-spouse",
   "metadata": {},
   "source": [
    "### Shuffle "
   ]
  },
  {
   "cell_type": "code",
   "execution_count": 144,
   "id": "going-adoption",
   "metadata": {},
   "outputs": [],
   "source": [
    "np.random.shuffle(X)\n"
   ]
  },
  {
   "cell_type": "code",
   "execution_count": 145,
   "id": "choice-master",
   "metadata": {},
   "outputs": [],
   "source": [
    "np.random.shuffle(y)"
   ]
  },
  {
   "cell_type": "code",
   "execution_count": 128,
   "id": "cleared-huntington",
   "metadata": {},
   "outputs": [],
   "source": [
    "X_train = X[:96000]\n",
    "X_cv = X[96001:128000]\n",
    "X_test = X[128001:159999]"
   ]
  },
  {
   "cell_type": "code",
   "execution_count": 148,
   "id": "spectacular-speaking",
   "metadata": {},
   "outputs": [
    {
     "data": {
      "text/plain": [
       "(31998, 3)"
      ]
     },
     "execution_count": 148,
     "metadata": {},
     "output_type": "execute_result"
    }
   ],
   "source": [
    "X_test.shape"
   ]
  },
  {
   "cell_type": "code",
   "execution_count": 129,
   "id": "interracial-employee",
   "metadata": {},
   "outputs": [],
   "source": [
    "y_train = y[:96000]\n",
    "y_cv = y[96001:128000]\n",
    "y_test = y[128001:159999]"
   ]
  },
  {
   "cell_type": "code",
   "execution_count": 151,
   "id": "compliant-leisure",
   "metadata": {},
   "outputs": [
    {
     "data": {
      "text/plain": [
       "(31998, 1)"
      ]
     },
     "execution_count": 151,
     "metadata": {},
     "output_type": "execute_result"
    }
   ],
   "source": [
    "y_test.shape"
   ]
  },
  {
   "cell_type": "markdown",
   "id": "tested-module",
   "metadata": {},
   "source": [
    "#### Regresion grado 1"
   ]
  },
  {
   "cell_type": "code",
   "execution_count": 153,
   "id": "bibliographic-specific",
   "metadata": {},
   "outputs": [],
   "source": [
    "\n",
    "theta, costs, thetas = gradient_descent(X_train,y_train,theta_0,linear_cost,linear_cost_gradient,0.0000001,0.001,10000,2)"
   ]
  },
  {
   "cell_type": "code",
   "execution_count": 156,
   "id": "advised-jumping",
   "metadata": {},
   "outputs": [
    {
     "data": {
      "text/plain": [
       "10000"
      ]
     },
     "execution_count": 156,
     "metadata": {},
     "output_type": "execute_result"
    }
   ],
   "source": [
    "len(costs)"
   ]
  },
  {
   "cell_type": "code",
   "execution_count": 158,
   "id": "tropical-employment",
   "metadata": {},
   "outputs": [
    {
     "name": "stdout",
     "output_type": "stream",
     "text": [
      "3.344665003951955e+19\n"
     ]
    }
   ],
   "source": [
    "\n",
    "print(costs[len(costs)-1])"
   ]
  },
  {
   "cell_type": "markdown",
   "id": "planned-charm",
   "metadata": {},
   "source": [
    " - El costo con esta regresion es muy pequeño\n",
    " - Fué el mejor modelo que pude realizar con un polinomio de grado 1 y con un lambda 2"
   ]
  },
  {
   "cell_type": "markdown",
   "id": "acoustic-nightmare",
   "metadata": {},
   "source": [
    "#### Regresion de polinomio grado 3"
   ]
  },
  {
   "cell_type": "code",
   "execution_count": 159,
   "id": "innovative-florist",
   "metadata": {},
   "outputs": [],
   "source": [
    "\n",
    "df['0.9317189805776385_2'] = df['0.9317189805776385'] ** 2\n",
    "df['0.9317189805776385_3'] = df['0.9317189805776385'] ** 3"
   ]
  },
  {
   "cell_type": "code",
   "execution_count": 161,
   "id": "heard-liberty",
   "metadata": {},
   "outputs": [],
   "source": [
    "y2 = df[[' 2596.040230347921']].to_numpy()\n",
    "X2 = df[['const','0.9317189805776385','0.9317189805776385_2', '0.9317189805776385_3',' 50.94283197947629']].to_numpy()"
   ]
  },
  {
   "cell_type": "code",
   "execution_count": 163,
   "id": "finite-steps",
   "metadata": {},
   "outputs": [],
   "source": [
    "m,n = X2.shape\n",
    "theta_0_2= np.random.rand(n,1)"
   ]
  },
  {
   "cell_type": "code",
   "execution_count": 164,
   "id": "informal-edwards",
   "metadata": {},
   "outputs": [
    {
     "name": "stdout",
     "output_type": "stream",
     "text": [
      "(5, 1)\n"
     ]
    }
   ],
   "source": [
    "print(theta_0_2.shape)"
   ]
  },
  {
   "cell_type": "code",
   "execution_count": 165,
   "id": "lesbian-priority",
   "metadata": {},
   "outputs": [],
   "source": [
    "#data split\n",
    "\n",
    "X2_train = X2[:96000]\n",
    "X2_cv = X2[96001:128000]\n",
    "X2_test = X2[128001:159999]\n",
    "y2_train = y2[:96000]\n",
    "y2_cv = y2[96001:128000]\n",
    "y2_test = y2[128001:159999]"
   ]
  },
  {
   "cell_type": "code",
   "execution_count": 166,
   "id": "following-bruce",
   "metadata": {},
   "outputs": [],
   "source": [
    "\n",
    "theta2, costs2, thetas2 = gradient_descent(X2_train,y2_train,theta_0_2,linear_cost,linear_cost_gradient,0.00000000000001,0.001,10000,2)"
   ]
  },
  {
   "cell_type": "code",
   "execution_count": 167,
   "id": "accepted-tribute",
   "metadata": {},
   "outputs": [
    {
     "data": {
      "text/plain": [
       "10000"
      ]
     },
     "execution_count": 167,
     "metadata": {},
     "output_type": "execute_result"
    }
   ],
   "source": [
    "len(costs2)"
   ]
  },
  {
   "cell_type": "code",
   "execution_count": 168,
   "id": "sustained-mills",
   "metadata": {},
   "outputs": [
    {
     "name": "stdout",
     "output_type": "stream",
     "text": [
      "2.3459531747932133e+22\n"
     ]
    }
   ],
   "source": [
    "print(costs2[len(costs2)-1])"
   ]
  },
  {
   "cell_type": "markdown",
   "id": "stylish-basement",
   "metadata": {},
   "source": [
    "- Con este valor que es cercano a 0 podemos decir que es un buen modelo\n",
    "- Se utulizó un grado del polinomio 3 y un lambda de 2"
   ]
  },
  {
   "cell_type": "markdown",
   "id": "collectible-energy",
   "metadata": {},
   "source": [
    "## Cross validation"
   ]
  },
  {
   "cell_type": "code",
   "execution_count": 169,
   "id": "wicked-mouse",
   "metadata": {},
   "outputs": [],
   "source": [
    "cv= linear_cost(X2_cv,y2_cv,theta2)\n"
   ]
  },
  {
   "cell_type": "code",
   "execution_count": 170,
   "id": "intermediate-twelve",
   "metadata": {},
   "outputs": [
    {
     "data": {
      "text/plain": [
       "2.3470264559993365e+22"
      ]
     },
     "execution_count": 170,
     "metadata": {},
     "output_type": "execute_result"
    }
   ],
   "source": [
    "cv"
   ]
  },
  {
   "cell_type": "code",
   "execution_count": 171,
   "id": "acquired-anniversary",
   "metadata": {},
   "outputs": [],
   "source": [
    "test = linear_cost(X2_test,y2_test,theta2)"
   ]
  },
  {
   "cell_type": "code",
   "execution_count": 172,
   "id": "biological-quantum",
   "metadata": {},
   "outputs": [
    {
     "data": {
      "text/plain": [
       "2.3459573718640832e+22"
      ]
     },
     "execution_count": 172,
     "metadata": {},
     "output_type": "execute_result"
    }
   ],
   "source": [
    "test"
   ]
  },
  {
   "cell_type": "markdown",
   "id": "static-textbook",
   "metadata": {},
   "source": [
    "- Podemos concluir que despues de hacer la prueba con los datos de train y de test el costo se mantiene bastante bien\n",
    "- La regresion con un polinomio de grado 3 y lambda de 2 es un buen modelo para nuestra variable objetivo"
   ]
  }
 ],
 "metadata": {
  "kernelspec": {
   "display_name": "Python 3",
   "language": "python",
   "name": "python3"
  },
  "language_info": {
   "codemirror_mode": {
    "name": "ipython",
    "version": 3
   },
   "file_extension": ".py",
   "mimetype": "text/x-python",
   "name": "python",
   "nbconvert_exporter": "python",
   "pygments_lexer": "ipython3",
   "version": "3.8.7"
  }
 },
 "nbformat": 4,
 "nbformat_minor": 5
}
